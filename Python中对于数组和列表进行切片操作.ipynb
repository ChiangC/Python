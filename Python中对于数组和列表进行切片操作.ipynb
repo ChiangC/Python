{
 "cells": [
  {
   "cell_type": "code",
   "execution_count": 8,
   "metadata": {},
   "outputs": [],
   "source": [
    "import numpy as np\n",
    "\n",
    "data_list=[[1,2,3],[1,2,1],[3,4,5],[4,5,6],[5,6,7],[6,7,8],[6,7,9],[0,4,7],[4,6,0],[2,9,1],[5,8,7],[9,7,8],[3,7,9]]\n",
    "# data_list.toarray()\n",
    "data_list=np.array(data_list)\n",
    " \n",
    "# print( 'X[:2]结果输出为：')  \n",
    "# print( data_list[:,2])  "
   ]
  },
  {
   "cell_type": "markdown",
   "metadata": {},
   "source": [
    "### 1. X[:,0];是取二维数组中第一维的所有数据"
   ]
  },
  {
   "cell_type": "code",
   "execution_count": 9,
   "metadata": {},
   "outputs": [
    {
     "name": "stdout",
     "output_type": "stream",
     "text": [
      "X[:,0]结果输出为：\n",
      "[1 1 3 4 5 6 6 0 4 2 5 9 3]\n"
     ]
    }
   ],
   "source": [
    "print('X[:,0]结果输出为：') \n",
    "print(data_list[:,0] )  "
   ]
  },
  {
   "cell_type": "markdown",
   "metadata": {},
   "source": [
    "### 2. X[:,1]是取二维数组中第二维的所有数据"
   ]
  },
  {
   "cell_type": "code",
   "execution_count": 10,
   "metadata": {},
   "outputs": [
    {
     "name": "stdout",
     "output_type": "stream",
     "text": [
      "X[:,1]结果输出为：\n",
      "[2 2 4 5 6 7 7 4 6 9 8 7 7]\n"
     ]
    }
   ],
   "source": [
    "print( 'X[:,1]结果输出为：')  \n",
    "print( data_list[:,1]) "
   ]
  },
  {
   "cell_type": "markdown",
   "metadata": {},
   "source": [
    "### 3.X[:,m:n] 是取二维数组中第m维到第n-1维的所有数据"
   ]
  },
  {
   "cell_type": "code",
   "execution_count": 11,
   "metadata": {},
   "outputs": [
    {
     "name": "stdout",
     "output_type": "stream",
     "text": [
      "X[:,m:n]结果输出为：\n",
      "[[1]\n",
      " [1]\n",
      " [3]\n",
      " [4]\n",
      " [5]\n",
      " [6]\n",
      " [6]\n",
      " [0]\n",
      " [4]\n",
      " [2]\n",
      " [5]\n",
      " [9]\n",
      " [3]]\n"
     ]
    }
   ],
   "source": [
    "print( 'X[:,m:n]结果输出为：')  \n",
    "print( data_list[:,0:1])  "
   ]
  },
  {
   "cell_type": "markdown",
   "metadata": {},
   "source": []
  },
  {
   "cell_type": "code",
   "execution_count": 12,
   "metadata": {},
   "outputs": [],
   "source": [
    "data_list=[[[1,2],[1,0],[3,4],[7,9],[4,0]],[[1,4],[1,5],[3,6],[8,9],[5,0]],[[8,2],[1,8],[3,5],[7,3],[4,6]],\n",
    "           [[1,1],[1,2],[3,5],[7,6],[7,8]],[[9,2],[1,3],[3,5],[7,67],[4,4]],[[8,2],[1,9],[3,43],[7,3],[43,0]],\n",
    "           [[1,22],[1,2],[3,42],[7,29],[4,20]],[[1,5],[1,20],[3,24],[17,9],[4,10]],[[11,2],[1,110],[3,14],[7,4],[4,2]]]\n",
    "data_list=np.array(data_list)"
   ]
  },
  {
   "cell_type": "markdown",
   "metadata": {},
   "source": [
    "### 4.X[:,:,0]是取三维矩阵中第一维的所有数据"
   ]
  },
  {
   "cell_type": "code",
   "execution_count": 13,
   "metadata": {},
   "outputs": [
    {
     "name": "stdout",
     "output_type": "stream",
     "text": [
      "X[:,:,0]结果输出为：\n",
      "[[ 1  1  3  7  4]\n",
      " [ 1  1  3  8  5]\n",
      " [ 8  1  3  7  4]\n",
      " [ 1  1  3  7  7]\n",
      " [ 9  1  3  7  4]\n",
      " [ 8  1  3  7 43]\n",
      " [ 1  1  3  7  4]\n",
      " [ 1  1  3 17  4]\n",
      " [11  1  3  7  4]]\n"
     ]
    }
   ],
   "source": [
    "print( 'X[:,:,0]结果输出为：')\n",
    "print( data_list[:,:,0] )"
   ]
  },
  {
   "cell_type": "markdown",
   "metadata": {},
   "source": [
    "### 5.X[:,:1]是取三维矩阵中第二维的所有数据"
   ]
  },
  {
   "cell_type": "code",
   "execution_count": 14,
   "metadata": {},
   "outputs": [
    {
     "name": "stdout",
     "output_type": "stream",
     "text": [
      "X[:,:,1]结果输出为：\n",
      "[[  2   0   4   9   0]\n",
      " [  4   5   6   9   0]\n",
      " [  2   8   5   3   6]\n",
      " [  1   2   5   6   8]\n",
      " [  2   3   5  67   4]\n",
      " [  2   9  43   3   0]\n",
      " [ 22   2  42  29  20]\n",
      " [  5  20  24   9  10]\n",
      " [  2 110  14   4   2]]\n"
     ]
    }
   ],
   "source": [
    "print( 'X[:,:,1]结果输出为：')\n",
    "print( data_list[:,:,1])"
   ]
  },
  {
   "cell_type": "markdown",
   "metadata": {},
   "source": [
    "### 6.X[:,:,m:n]是取三维矩阵中第m维到第n-1维的所有数据"
   ]
  },
  {
   "cell_type": "code",
   "execution_count": 15,
   "metadata": {},
   "outputs": [
    {
     "name": "stdout",
     "output_type": "stream",
     "text": [
      "X[:,:,m:n]结果输出为:\n",
      "[[[ 1]\n",
      "  [ 1]\n",
      "  [ 3]\n",
      "  [ 7]\n",
      "  [ 4]]\n",
      "\n",
      " [[ 1]\n",
      "  [ 1]\n",
      "  [ 3]\n",
      "  [ 8]\n",
      "  [ 5]]\n",
      "\n",
      " [[ 8]\n",
      "  [ 1]\n",
      "  [ 3]\n",
      "  [ 7]\n",
      "  [ 4]]\n",
      "\n",
      " [[ 1]\n",
      "  [ 1]\n",
      "  [ 3]\n",
      "  [ 7]\n",
      "  [ 7]]\n",
      "\n",
      " [[ 9]\n",
      "  [ 1]\n",
      "  [ 3]\n",
      "  [ 7]\n",
      "  [ 4]]\n",
      "\n",
      " [[ 8]\n",
      "  [ 1]\n",
      "  [ 3]\n",
      "  [ 7]\n",
      "  [43]]\n",
      "\n",
      " [[ 1]\n",
      "  [ 1]\n",
      "  [ 3]\n",
      "  [ 7]\n",
      "  [ 4]]\n",
      "\n",
      " [[ 1]\n",
      "  [ 1]\n",
      "  [ 3]\n",
      "  [17]\n",
      "  [ 4]]\n",
      "\n",
      " [[11]\n",
      "  [ 1]\n",
      "  [ 3]\n",
      "  [ 7]\n",
      "  [ 4]]]\n"
     ]
    }
   ],
   "source": [
    "print('X[:,:,m:n]结果输出为:')\n",
    "print( data_list[:,:,0:1])"
   ]
  }
 ],
 "metadata": {
  "kernelspec": {
   "display_name": "Python 3",
   "language": "python",
   "name": "python3"
  },
  "language_info": {
   "codemirror_mode": {
    "name": "ipython",
    "version": 3
   },
   "file_extension": ".py",
   "mimetype": "text/x-python",
   "name": "python",
   "nbconvert_exporter": "python",
   "pygments_lexer": "ipython3",
   "version": "3.7.3"
  }
 },
 "nbformat": 4,
 "nbformat_minor": 2
}
