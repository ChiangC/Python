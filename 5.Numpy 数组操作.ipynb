{
 "cells": [
  {
   "cell_type": "markdown",
   "metadata": {},
   "source": [
    "### Numpy 数组操作\n",
    "Numpy 中包含了一些函数用于处理数组，大概可分为以下几类：\n",
    "\n",
    "* 修改数组形状\n",
    "* 翻转数组\n",
    "* 修改数组维度\n",
    "* 连接数组\n",
    "* 分割数组\n",
    "* 数组元素的添加与删除"
   ]
  },
  {
   "cell_type": "code",
   "execution_count": 1,
   "metadata": {},
   "outputs": [],
   "source": [
    "import numpy as np"
   ]
  },
  {
   "cell_type": "markdown",
   "metadata": {},
   "source": [
    "### 1.修改数组形状\n",
    "\n",
    "|函数|\t描述|\n",
    "|:----|:----|\n",
    "|reshape\t|不改变数据的条件下修改形状||\n",
    "|flat\t|数组元素迭代器|\n",
    "|flatten\t|返回一份数组拷贝，对拷贝所做的修改不会影响原始数组|\n",
    "|ravel\t|返回展开数组|"
   ]
  },
  {
   "cell_type": "markdown",
   "metadata": {},
   "source": [
    "### 1.1numpy.reshape\n",
    "numpy.reshape 函数可以在不改变数据的条件下修改形状"
   ]
  },
  {
   "cell_type": "code",
   "execution_count": 2,
   "metadata": {},
   "outputs": [
    {
     "name": "stdout",
     "output_type": "stream",
     "text": [
      "原数组:\n",
      "[0 1 2 3 4 5 6 7]\n",
      "\n",
      "\n",
      "修改后的数组：\n",
      "[[0 1]\n",
      " [2 3]\n",
      " [4 5]\n",
      " [6 7]]\n"
     ]
    }
   ],
   "source": [
    "a = np.arange(8)\n",
    "print(\"原数组:\")\n",
    "print(a)\n",
    "print(\"\\n\")\n",
    "\n",
    "b = a.reshape(4,2)\n",
    "print(\"修改后的数组：\")\n",
    "print(b)"
   ]
  },
  {
   "cell_type": "markdown",
   "metadata": {},
   "source": [
    "### 1.2numpy.ndarray.flat\n",
    "numpy.ndarray.flat 是一个数组元素迭代器"
   ]
  },
  {
   "cell_type": "code",
   "execution_count": 5,
   "metadata": {},
   "outputs": [
    {
     "name": "stdout",
     "output_type": "stream",
     "text": [
      "原数组：\n",
      "[0 1 2]\n",
      "[3 4 5]\n",
      "[6 7 8]\n",
      "\n",
      "\n",
      "迭代后的数组：\n",
      "0\n",
      "1\n",
      "2\n",
      "3\n",
      "4\n",
      "5\n",
      "6\n",
      "7\n",
      "8\n"
     ]
    }
   ],
   "source": [
    "a = np.arange(9).reshape(3,3)\n",
    "print(\"原数组：\")\n",
    "# print(a)\n",
    "for row in a:\n",
    "    print(row)\n",
    "print(\"\\n\")\n",
    "\n",
    "#对数组中每个元素都进行处理，可以使用flat属性，该属性是一个数组元素迭代器：\n",
    "print(\"迭代后的数组：\")\n",
    "for element in a.flat:\n",
    "    print(element)"
   ]
  },
  {
   "cell_type": "markdown",
   "metadata": {},
   "source": [
    "### 1.3 numpy.ndarray.flatten\n",
    "numpy.ndarray.flatten返回一份数组拷贝，对拷贝所做的修改不会影响原始数组，格式如下：\n",
    "ndarray.flatten(order='C')\n",
    "\n",
    "参数说明:\n",
    "* order: 'C'--按行，'F' --按列, 'A'--原顺序， 'K'--元素在内存中的出现顺序。"
   ]
  },
  {
   "cell_type": "code",
   "execution_count": 6,
   "metadata": {},
   "outputs": [
    {
     "name": "stdout",
     "output_type": "stream",
     "text": [
      "原数组：\n",
      "[[0 1 2 3]\n",
      " [4 5 6 7]]\n",
      "\n",
      "\n",
      "展开的数组:\n",
      "[0 1 2 3 4 5 6 7]\n",
      "\n",
      "\n",
      "以F风格顺序展开的数组：\n",
      "[0 4 1 5 2 6 3 7]\n"
     ]
    }
   ],
   "source": [
    "a = np.arange(8).reshape(2,4)\n",
    "print(\"原数组：\")\n",
    "print(a)\n",
    "print(\"\\n\")\n",
    "\n",
    "print(\"展开的数组:\")\n",
    "print(a.flatten())\n",
    "print(\"\\n\")\n",
    "\n",
    "print(\"以F风格顺序展开的数组：\")\n",
    "print(a.flatten(order=\"F\"))"
   ]
  },
  {
   "cell_type": "markdown",
   "metadata": {},
   "source": [
    "### 1.4 numpy.ravel\n",
    "numpy.ravel() 展平的数组元素，顺序通常是\"C风格\"，返回的是数组视图（view，有点类似 C/C++引用reference的意味），修改会影响原始数组。\n",
    "\n",
    "该函数接收两个参数：\n",
    "> numpy.ravel(a, order='C')\n",
    "\n",
    "* order：'C' -- 按行，'F' -- 按列，'A' -- 原顺序，'K' -- 元素在内存中的出现顺序。"
   ]
  },
  {
   "cell_type": "code",
   "execution_count": 8,
   "metadata": {},
   "outputs": [
    {
     "name": "stdout",
     "output_type": "stream",
     "text": [
      "原数组：\n",
      "[[0 1 2 3]\n",
      " [4 5 6 7]]\n",
      "\n",
      "\n",
      "调用ravel函数之后：\n",
      "[0 1 2 3 4 5 6 7]\n",
      "\n",
      "\n",
      "以F风格顺序调用ravel函数之后：\n",
      "[0 4 1 5 2 6 3 7]\n"
     ]
    }
   ],
   "source": [
    "a = np.arange(8).reshape(2,4)\n",
    "print(\"原数组：\")\n",
    "print(a)\n",
    "print(\"\\n\")\n",
    "\n",
    "print(\"调用ravel函数之后：\")\n",
    "print(a.ravel())\n",
    "print(\"\\n\")\n",
    "\n",
    "print(\"以F风格顺序调用ravel函数之后：\")\n",
    "print(a.ravel(order=\"F\"))"
   ]
  },
  {
   "cell_type": "markdown",
   "metadata": {},
   "source": [
    "### 2.翻转数组\n",
    "|函数\t|描述|\n",
    "|----|----|\n",
    "|transpose\t|对换数组的维度|\n",
    "|ndarray.T\t|和 self.transpose() 相同||\n",
    "|rollaxis\t|向后滚动指定的轴|\n",
    "|swapaxes\t|对换数组的两个轴|"
   ]
  },
  {
   "cell_type": "markdown",
   "metadata": {},
   "source": [
    "### 2.1 numpy.transpose\n",
    "numpy.transpose 函数用于对换数组的维度，格式如下：\n",
    "\n",
    "numpy.transpose(arr, axes)\n",
    "\n",
    "参数说明:\n",
    "\n",
    "arr：要操作的数组\n",
    "axes：整数列表，对应维度，通常所有维度都会对换。"
   ]
  },
  {
   "cell_type": "code",
   "execution_count": 14,
   "metadata": {},
   "outputs": [
    {
     "name": "stdout",
     "output_type": "stream",
     "text": [
      "原数组：\n",
      "[[ 0  1  2  3]\n",
      " [ 4  5  6  7]\n",
      " [ 8  9 10 11]]\n",
      "\n",
      "\n",
      "对换数组：\n",
      "[[ 0  4  8]\n",
      " [ 1  5  9]\n",
      " [ 2  6 10]\n",
      " [ 3  7 11]]\n",
      "\n",
      "\n",
      "对换数组a.T：\n",
      "[[ 0  4  8]\n",
      " [ 1  5  9]\n",
      " [ 2  6 10]\n",
      " [ 3  7 11]]\n"
     ]
    }
   ],
   "source": [
    "a = np.arange(12).reshape(3,4)\n",
    "print(\"原数组：\")\n",
    "print(a)\n",
    "print(\"\\n\")\n",
    "\n",
    "print(\"对换数组：\")\n",
    "print(np.transpose(a))\n",
    "\n",
    "print(\"\\n\")\n",
    "print(\"对换数组a.T：\")\n",
    "print(a.T)"
   ]
  },
  {
   "cell_type": "markdown",
   "metadata": {},
   "source": [
    "### 2.2 numpy.rollaxis\n",
    "numpy.rollaxis 函数向后滚动特定的轴到一个特定位置，格式如下：\n",
    "\n",
    "numpy.rollaxis(arr, axis, start)\n",
    "参数说明：\n",
    "\n",
    "* arr：数组\n",
    "* axis：要向后滚动的轴，其它轴的相对位置不会改变\n",
    "* start：默认为零，表示完整的滚动。会滚动到特定位置。"
   ]
  },
  {
   "cell_type": "code",
   "execution_count": null,
   "metadata": {},
   "outputs": [],
   "source": []
  },
  {
   "cell_type": "code",
   "execution_count": null,
   "metadata": {},
   "outputs": [],
   "source": []
  },
  {
   "cell_type": "markdown",
   "metadata": {},
   "source": [
    "### 3.修改数组维度"
   ]
  },
  {
   "cell_type": "code",
   "execution_count": null,
   "metadata": {},
   "outputs": [],
   "source": []
  },
  {
   "cell_type": "code",
   "execution_count": null,
   "metadata": {},
   "outputs": [],
   "source": []
  },
  {
   "cell_type": "markdown",
   "metadata": {},
   "source": [
    "### 4.连接数组"
   ]
  },
  {
   "cell_type": "code",
   "execution_count": null,
   "metadata": {},
   "outputs": [],
   "source": []
  },
  {
   "cell_type": "code",
   "execution_count": null,
   "metadata": {},
   "outputs": [],
   "source": []
  },
  {
   "cell_type": "markdown",
   "metadata": {},
   "source": []
  },
  {
   "cell_type": "code",
   "execution_count": null,
   "metadata": {},
   "outputs": [],
   "source": []
  },
  {
   "cell_type": "code",
   "execution_count": null,
   "metadata": {},
   "outputs": [],
   "source": []
  },
  {
   "cell_type": "code",
   "execution_count": null,
   "metadata": {},
   "outputs": [],
   "source": []
  },
  {
   "cell_type": "code",
   "execution_count": null,
   "metadata": {},
   "outputs": [],
   "source": []
  },
  {
   "cell_type": "code",
   "execution_count": null,
   "metadata": {},
   "outputs": [],
   "source": []
  }
 ],
 "metadata": {
  "kernelspec": {
   "display_name": "Python 3",
   "language": "python",
   "name": "python3"
  },
  "language_info": {
   "codemirror_mode": {
    "name": "ipython",
    "version": 3
   },
   "file_extension": ".py",
   "mimetype": "text/x-python",
   "name": "python",
   "nbconvert_exporter": "python",
   "pygments_lexer": "ipython3",
   "version": "3.7.3"
  }
 },
 "nbformat": 4,
 "nbformat_minor": 2
}
