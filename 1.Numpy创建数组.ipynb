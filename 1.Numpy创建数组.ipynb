{
 "cells": [
  {
   "cell_type": "code",
   "execution_count": 1,
   "metadata": {},
   "outputs": [],
   "source": [
    "import numpy as np"
   ]
  },
  {
   "cell_type": "markdown",
   "metadata": {},
   "source": [
    "# 一、NumPy 创建数组empty、zeros"
   ]
  },
  {
   "cell_type": "markdown",
   "metadata": {},
   "source": [
    "## 1.numpy.empty\n",
    "numpy.empty 方法用来创建一个指定形状（shape）、数据类型（dtype）且未初始化的数组：\n",
    "注意 − 数组元素为随机值，因为它们未初始化。"
   ]
  },
  {
   "cell_type": "code",
   "execution_count": 4,
   "metadata": {},
   "outputs": [
    {
     "name": "stdout",
     "output_type": "stream",
     "text": [
      "[[  901449672         563]\n",
      " [-1776258623 -2147481344]\n",
      " [  901343248         563]]\n"
     ]
    }
   ],
   "source": [
    "arr = np.empty([3,2], dtype = int)\n",
    "print(arr)"
   ]
  },
  {
   "cell_type": "markdown",
   "metadata": {},
   "source": [
    "## 2.numpy.zeros\n",
    "创建指定大小的数组，数组元素以 0 来填充： "
   ]
  },
  {
   "cell_type": "code",
   "execution_count": 11,
   "metadata": {},
   "outputs": [
    {
     "name": "stdout",
     "output_type": "stream",
     "text": [
      "[0. 0. 0. 0. 0.]\n",
      "[0 0 0 0 0]\n",
      "[[(0, 0) (0, 0)]\n",
      " [(0, 0) (0, 0)]]\n"
     ]
    }
   ],
   "source": [
    "#默认为浮点数\n",
    "arr = np.zeros(5)\n",
    "print(arr)\n",
    "\n",
    "#设置数据类型为整型\n",
    "arrInt = np.zeros((5,), dtype = np.int)\n",
    "print(arrInt)\n",
    "\n",
    "#自定义类型\n",
    "arrX = np.zeros((2,2), dtype = [('x', 'i4'), ('y', 'i4')])\n",
    "print(arrX)"
   ]
  },
  {
   "cell_type": "markdown",
   "metadata": {},
   "source": [
    "## 3.numpy.ones\n",
    "创建指定形状的数组，数组元素以 1 来填充：\n"
   ]
  },
  {
   "cell_type": "code",
   "execution_count": 15,
   "metadata": {},
   "outputs": [
    {
     "name": "stdout",
     "output_type": "stream",
     "text": [
      "[1. 1. 1. 1. 1.]\n",
      "\n",
      "\n",
      "[[1 1 1 1]\n",
      " [1 1 1 1]\n",
      " [1 1 1 1]]\n"
     ]
    }
   ],
   "source": [
    "#默认为浮点类型\n",
    "arr = np.ones(5)\n",
    "print(arr)\n",
    "print('\\n')\n",
    "#自定义类型\n",
    "arrOnes = np.ones([3,4], dtype = int)\n",
    "print(arrOnes)"
   ]
  },
  {
   "cell_type": "markdown",
   "metadata": {},
   "source": []
  },
  {
   "cell_type": "markdown",
   "metadata": {},
   "source": [
    "# 二、NumPy 从已有的数组创建数组"
   ]
  },
  {
   "cell_type": "markdown",
   "metadata": {},
   "source": [
    "## 1.numpy.asarray\n",
    "numpy.asarray 类似 numpy.array，但 numpy.asarray 只有三个，比 numpy.array 少两个。"
   ]
  },
  {
   "cell_type": "code",
   "execution_count": 30,
   "metadata": {},
   "outputs": [
    {
     "name": "stdout",
     "output_type": "stream",
     "text": [
      "列表转为ndarray:\n",
      "[1 2 3 4 5]\n",
      "\n",
      "\n",
      "元组转为ndarray:\n",
      "[ 6  7  8  9 10]\n",
      "\n",
      "\n",
      "将元组列表转换为 ndarray:\n",
      "[[ 1  2  3  4  5]\n",
      " [ 6  7  8  9 10]]\n",
      "\n",
      "\n",
      "设置了 dtype 参数(float):\n",
      "[[ 1.  2.  3.  4.  5.]\n",
      " [ 6.  7.  8.  9. 10.]]\n"
     ]
    }
   ],
   "source": [
    "#列表转为ndarray\n",
    "xList = [1, 2, 3, 4, 5]\n",
    "arr = np.asarray(xList)\n",
    "print(\"列表转为ndarray:\")\n",
    "print(arr)\n",
    "print(\"\\n\")\n",
    "\n",
    "#元组转为ndarray\n",
    "arr = np.asarray((6, 7, 8, 9, 10))\n",
    "print(\"元组转为ndarray:\")\n",
    "print(arr)\n",
    "print(\"\\n\")\n",
    "\n",
    "#将元组列表转换为 ndarray\n",
    "x = [(1, 2, 3, 4, 5), (6, 7, 8, 9 , 10)]\n",
    "arr = np.asarray(x)\n",
    "print(\"将元组列表转换为 ndarray:\")\n",
    "print(arr)\n",
    "print(\"\\n\")\n",
    "\n",
    "#设置了 dtype 参数\n",
    "arr = np.asarray(x, dtype = float)\n",
    "print(\"设置了 dtype 参数(float):\")\n",
    "print(arr)"
   ]
  },
  {
   "cell_type": "markdown",
   "metadata": {},
   "source": [
    "## 2.numpy.frombuffer\n",
    "numpy.frombuffer 用于实现动态数组。\n",
    "numpy.frombuffer 接受 buffer 输入参数，以流的形式读入转化成 ndarray 对象。"
   ]
  },
  {
   "cell_type": "code",
   "execution_count": 37,
   "metadata": {},
   "outputs": [
    {
     "name": "stdout",
     "output_type": "stream",
     "text": [
      "[b'H' b'e' b'l' b'l' b'o' b' ' b'S' b'e' b'l' b'f' b'-' b'D' b'r' b'i'\n",
      " b'v' b'i' b'n' b'g' b' ' b'C' b'a' b'r']\n",
      "\n",
      "\n"
     ]
    }
   ],
   "source": [
    "s = b'Hello Self-Driving Car'\n",
    "a = np.frombuffer(s, dtype = \"S1\")\n",
    "print(a)\n",
    "print('\\n')\n",
    "\n",
    "# s =  'Hello World'\n",
    "# a = np.frombuffer(s, dtype =  'S1')\n",
    "# print (a)"
   ]
  },
  {
   "cell_type": "markdown",
   "metadata": {},
   "source": [
    "## 3.numpy.fromiter\n",
    "numpy.fromiter 方法从可迭代对象中建立 ndarray 对象，返回一维数组。"
   ]
  },
  {
   "cell_type": "code",
   "execution_count": 38,
   "metadata": {},
   "outputs": [
    {
     "name": "stdout",
     "output_type": "stream",
     "text": [
      "[0. 1. 2. 3. 4. 5. 6. 7.]\n"
     ]
    }
   ],
   "source": [
    "# 使用 range 函数创建列表对象  \n",
    "list = range(8)\n",
    "ite = iter(list)\n",
    "\n",
    "#使用迭代器创建ndarray\n",
    "x = np.fromiter(ite, dtype = \"float\")\n",
    "print(x)"
   ]
  },
  {
   "cell_type": "markdown",
   "metadata": {},
   "source": [
    "# 三、NumPy 从数值范围创建数组# "
   ]
  },
  {
   "cell_type": "markdown",
   "metadata": {},
   "source": [
    "## 1.numpy.arange\n",
    "numpy 包中的使用 arange 函数创建数值范围并返回 ndarray 对象"
   ]
  },
  {
   "cell_type": "code",
   "execution_count": 45,
   "metadata": {},
   "outputs": [
    {
     "name": "stdout",
     "output_type": "stream",
     "text": [
      "[0 1 2 3 4 5 6 7]\n",
      "\n",
      "\n",
      "设置返回类型位 float:\n",
      "[0. 1. 2. 3. 4. 5. 6. 7.]\n",
      "\n",
      "\n",
      "设置了起始值、终止值及步长：\n",
      "[10 12 14 16 18]\n"
     ]
    }
   ],
   "source": [
    "x = np.arange(8)\n",
    "print(x)\n",
    "print(\"\\n\")\n",
    "\n",
    "#设置返回类型位 float:\n",
    "x = np.arange(8, dtype=\"float\")\n",
    "print(\"设置返回类型位 float:\")\n",
    "print(x)\n",
    "print(\"\\n\")\n",
    "\n",
    "#设置了起始值、终止值及步长：\n",
    "x = np.arange(10, 20, 2)\n",
    "print(\"设置了起始值、终止值及步长：\")\n",
    "print(x)\n"
   ]
  },
  {
   "cell_type": "markdown",
   "metadata": {},
   "source": [
    "## 2.numpy.linspace\n",
    "numpy.linspace 函数用于创建一个一维数组，数组是一个等差数列构成的，格式如下："
   ]
  },
  {
   "cell_type": "code",
   "execution_count": 14,
   "metadata": {},
   "outputs": [
    {
     "name": "stdout",
     "output_type": "stream",
     "text": [
      "[ 1.  2.  3.  4.  5.  6.  7.  8.  9. 10.]\n",
      "\n",
      "\n",
      "设置数据类型\n",
      "[ 1  2  3  4  5  6  7  8  9 10]\n",
      "\n",
      "\n",
      "将 endpoint 设为 false，不包含终止值：\n",
      "[10 12 14 16 18]\n",
      "\n",
      "\n",
      "设置间距:\n",
      "(array([ 1.,  2.,  3.,  4.,  5.,  6.,  7.,  8.,  9., 10.]), 1.0)\n",
      "\n",
      "\n",
      "reshape:\n",
      "[[ 1]\n",
      " [ 2]\n",
      " [ 3]\n",
      " [ 4]\n",
      " [ 5]\n",
      " [ 6]\n",
      " [ 7]\n",
      " [ 8]\n",
      " [ 9]\n",
      " [10]]\n"
     ]
    }
   ],
   "source": [
    "a = np.linspace(1, 10, 10)\n",
    "print(a)\n",
    "print('\\n')\n",
    "\n",
    "#设置数据类型\n",
    "a = np.linspace(1, 10, 10, dtype = int)\n",
    "print(\"设置数据类型\")\n",
    "print(a)\n",
    "print('\\n')\n",
    "\n",
    "#将 endpoint 设为 false，不包含终止值：\n",
    "a = np.linspace(10, 20, 5, endpoint = False, dtype=\"int\")\n",
    "print(\"将 endpoint 设为 false，不包含终止值：\")\n",
    "print(a)\n",
    "print(\"\\n\")\n",
    "\n",
    "#设置间距\n",
    "a = np.linspace(1, 10, 10, retstep=True)\n",
    "print(\"设置间距:\")\n",
    "print(a)\n",
    "print(\"\\n\")\n",
    "\n",
    "#reshape\n",
    "b = np.linspace(1, 10, 10, dtype=int).reshape((10, 1))\n",
    "print(\"reshape:\")\n",
    "print(b)"
   ]
  },
  {
   "cell_type": "markdown",
   "metadata": {},
   "source": [
    "## 3.numpy.logspace\n",
    "numpy.logspace 函数用于创建一个于等比数列。\n",
    "base 参数意思是取对数的时候 log 的下标。"
   ]
  },
  {
   "cell_type": "code",
   "execution_count": 19,
   "metadata": {},
   "outputs": [
    {
     "name": "stdout",
     "output_type": "stream",
     "text": [
      "[ 10.          12.91549665  16.68100537  21.5443469   27.82559402\n",
      "  35.93813664  46.41588834  59.94842503  77.42636827 100.        ]\n",
      "\n",
      "\n",
      "[  1.   2.   4.   8.  16.  32.  64. 128. 256. 512.]\n",
      "\n",
      "\n"
     ]
    }
   ],
   "source": [
    "#默认底数为10\n",
    "a = np.logspace(1, 2, num = 10)\n",
    "print(a)\n",
    "print(\"\\n\")\n",
    "\n",
    "b = np.logspace(0, 9, num = 10, base = 2)\n",
    "print(b)\n",
    "print(\"\\n\")"
   ]
  },
  {
   "cell_type": "code",
   "execution_count": null,
   "metadata": {},
   "outputs": [],
   "source": []
  },
  {
   "cell_type": "code",
   "execution_count": null,
   "metadata": {},
   "outputs": [],
   "source": []
  },
  {
   "cell_type": "code",
   "execution_count": null,
   "metadata": {},
   "outputs": [],
   "source": []
  },
  {
   "cell_type": "code",
   "execution_count": null,
   "metadata": {},
   "outputs": [],
   "source": []
  }
 ],
 "metadata": {
  "kernelspec": {
   "display_name": "Python 3",
   "language": "python",
   "name": "python3"
  },
  "language_info": {
   "codemirror_mode": {
    "name": "ipython",
    "version": 3
   },
   "file_extension": ".py",
   "mimetype": "text/x-python",
   "name": "python",
   "nbconvert_exporter": "python",
   "pygments_lexer": "ipython3",
   "version": "3.7.3"
  }
 },
 "nbformat": 4,
 "nbformat_minor": 2
}
